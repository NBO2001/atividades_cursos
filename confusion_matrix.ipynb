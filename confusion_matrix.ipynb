{
  "nbformat": 4,
  "nbformat_minor": 0,
  "metadata": {
    "colab": {
      "provenance": [],
      "gpuType": "T4",
      "authorship_tag": "ABX9TyPsd5pZ9f8tOTemV9XwKdo0",
      "include_colab_link": true
    },
    "kernelspec": {
      "name": "python3",
      "display_name": "Python 3"
    },
    "language_info": {
      "name": "python"
    },
    "accelerator": "GPU"
  },
  "cells": [
    {
      "cell_type": "markdown",
      "metadata": {
        "id": "view-in-github",
        "colab_type": "text"
      },
      "source": [
        "<a href=\"https://colab.research.google.com/github/NBO2001/atividades_cursos/blob/main/confusion_matrix.ipynb\" target=\"_parent\"><img src=\"https://colab.research.google.com/assets/colab-badge.svg\" alt=\"Open In Colab\"/></a>"
      ]
    },
    {
      "cell_type": "code",
      "execution_count": 1,
      "metadata": {
        "id": "BWuP5Sckk5ck"
      },
      "outputs": [],
      "source": [
        "import numpy as np\n",
        "import pandas as pd\n",
        "import seaborn as sns\n",
        "import matplotlib.pyplot as plt\n",
        "\n",
        "import tensorflow as tf\n",
        "from tensorflow.keras import datasets, layers,models"
      ]
    },
    {
      "cell_type": "code",
      "source": [
        "(train_imgs, train_labels), (test_img, test_lables) = datasets.mnist.load_data()"
      ],
      "metadata": {
        "colab": {
          "base_uri": "https://localhost:8080/"
        },
        "id": "1vAT5JVmllKI",
        "outputId": "e8cea786-72fa-4ef8-f76d-48ce7876ab91"
      },
      "execution_count": 2,
      "outputs": [
        {
          "output_type": "stream",
          "name": "stdout",
          "text": [
            "Downloading data from https://storage.googleapis.com/tensorflow/tf-keras-datasets/mnist.npz\n",
            "11490434/11490434 [==============================] - 0s 0us/step\n"
          ]
        }
      ]
    },
    {
      "cell_type": "code",
      "source": [
        "train_imgs = train_imgs.reshape((60000, 28, 28,1))\n",
        "train_imgs.shape"
      ],
      "metadata": {
        "colab": {
          "base_uri": "https://localhost:8080/"
        },
        "id": "t3jyahFul277",
        "outputId": "ba54ea7e-1ea6-463d-95b0-597167dcb4f6"
      },
      "execution_count": 3,
      "outputs": [
        {
          "output_type": "execute_result",
          "data": {
            "text/plain": [
              "(60000, 28, 28, 1)"
            ]
          },
          "metadata": {},
          "execution_count": 3
        }
      ]
    },
    {
      "cell_type": "code",
      "source": [
        "test_img = test_img.reshape( (10000, 28, 28,1) )\n",
        "test_img.shape"
      ],
      "metadata": {
        "colab": {
          "base_uri": "https://localhost:8080/"
        },
        "id": "bSamPVxBmIMF",
        "outputId": "b75c8fdf-ea4b-403a-8092-c0482e2e314c"
      },
      "execution_count": 4,
      "outputs": [
        {
          "output_type": "execute_result",
          "data": {
            "text/plain": [
              "(10000, 28, 28, 1)"
            ]
          },
          "metadata": {},
          "execution_count": 4
        }
      ]
    },
    {
      "cell_type": "code",
      "source": [
        "train_imgs, test_img = train_imgs/255.0, test_img/255.0"
      ],
      "metadata": {
        "id": "Zg9z8LjwmPMA"
      },
      "execution_count": 5,
      "outputs": []
    },
    {
      "cell_type": "code",
      "source": [
        "classes = [0,1,2,3,4,5,6,7,8,9]"
      ],
      "metadata": {
        "id": "iH7Nkjx1mZzQ"
      },
      "execution_count": 6,
      "outputs": []
    },
    {
      "cell_type": "code",
      "source": [
        "model = tf.keras.Sequential()\n",
        "model.add( layers.Conv2D(filters=32, kernel_size=(3,3), activation='relu', input_shape=(28,28,1) ) )\n",
        "model.add( layers.MaxPooling2D((2,2)))\n",
        "model.add( layers.Conv2D(filters=64, kernel_size=(3,3), activation='relu' ) )\n",
        "model.add( layers.MaxPooling2D((2,2)))\n",
        "model.add( layers.Conv2D(filters=64, kernel_size=(3,3), activation='relu' ) )\n",
        "\n",
        "model.add(layers.Flatten())\n",
        "model.add(layers.Dense(64, activation='relu'))\n",
        "model.add(layers.Dense(10, activation='softmax'))"
      ],
      "metadata": {
        "id": "Rm3XLtg9mh2x"
      },
      "execution_count": 7,
      "outputs": []
    },
    {
      "cell_type": "code",
      "source": [
        "model.summary()"
      ],
      "metadata": {
        "colab": {
          "base_uri": "https://localhost:8080/"
        },
        "id": "Xu0K9v_0nsA2",
        "outputId": "cdf73728-d061-4903-9c0e-d292aee3e41a"
      },
      "execution_count": 8,
      "outputs": [
        {
          "output_type": "stream",
          "name": "stdout",
          "text": [
            "Model: \"sequential\"\n",
            "_________________________________________________________________\n",
            " Layer (type)                Output Shape              Param #   \n",
            "=================================================================\n",
            " conv2d (Conv2D)             (None, 26, 26, 32)        320       \n",
            "                                                                 \n",
            " max_pooling2d (MaxPooling2D  (None, 13, 13, 32)       0         \n",
            " )                                                               \n",
            "                                                                 \n",
            " conv2d_1 (Conv2D)           (None, 11, 11, 64)        18496     \n",
            "                                                                 \n",
            " max_pooling2d_1 (MaxPooling  (None, 5, 5, 64)         0         \n",
            " 2D)                                                             \n",
            "                                                                 \n",
            " conv2d_2 (Conv2D)           (None, 3, 3, 64)          36928     \n",
            "                                                                 \n",
            " flatten (Flatten)           (None, 576)               0         \n",
            "                                                                 \n",
            " dense (Dense)               (None, 64)                36928     \n",
            "                                                                 \n",
            " dense_1 (Dense)             (None, 10)                650       \n",
            "                                                                 \n",
            "=================================================================\n",
            "Total params: 93,322\n",
            "Trainable params: 93,322\n",
            "Non-trainable params: 0\n",
            "_________________________________________________________________\n"
          ]
        }
      ]
    },
    {
      "cell_type": "code",
      "source": [
        "model.compile(optimizer='adam', loss='sparse_categorical_crossentropy', metrics=['accuracy'])"
      ],
      "metadata": {
        "id": "pbPk7bvpnvCL"
      },
      "execution_count": 9,
      "outputs": []
    },
    {
      "cell_type": "code",
      "source": [
        "model.fit(\n",
        "    x=train_imgs,\n",
        "    y=train_labels,\n",
        "    epochs=5,\n",
        "    validation_data=(test_img, test_lables)\n",
        ")"
      ],
      "metadata": {
        "colab": {
          "base_uri": "https://localhost:8080/"
        },
        "id": "gS7acRJXoUI3",
        "outputId": "5796a015-d2c6-43e2-8bff-847ecc635866"
      },
      "execution_count": 10,
      "outputs": [
        {
          "output_type": "stream",
          "name": "stdout",
          "text": [
            "Epoch 1/5\n",
            "1875/1875 [==============================] - 21s 5ms/step - loss: 0.1402 - accuracy: 0.9566 - val_loss: 0.0474 - val_accuracy: 0.9841\n",
            "Epoch 2/5\n",
            "1875/1875 [==============================] - 8s 4ms/step - loss: 0.0432 - accuracy: 0.9865 - val_loss: 0.0775 - val_accuracy: 0.9765\n",
            "Epoch 3/5\n",
            "1875/1875 [==============================] - 11s 6ms/step - loss: 0.0318 - accuracy: 0.9900 - val_loss: 0.0251 - val_accuracy: 0.9913\n",
            "Epoch 4/5\n",
            "1875/1875 [==============================] - 9s 5ms/step - loss: 0.0241 - accuracy: 0.9923 - val_loss: 0.0256 - val_accuracy: 0.9916\n",
            "Epoch 5/5\n",
            "1875/1875 [==============================] - 8s 4ms/step - loss: 0.0183 - accuracy: 0.9939 - val_loss: 0.0271 - val_accuracy: 0.9915\n"
          ]
        },
        {
          "output_type": "execute_result",
          "data": {
            "text/plain": [
              "<keras.callbacks.History at 0x7eca8827bd00>"
            ]
          },
          "metadata": {},
          "execution_count": 10
        }
      ]
    },
    {
      "cell_type": "code",
      "source": [
        "y_true = test_lables\n",
        "y_pred_probs = model.predict(test_img)\n",
        "y_pred_labels = np.argmax(y_pred_probs, axis=1)\n",
        "\n",
        "con_mat = tf.math.confusion_matrix(labels=y_true, predictions=y_pred_labels).numpy()"
      ],
      "metadata": {
        "colab": {
          "base_uri": "https://localhost:8080/"
        },
        "id": "uChGNbg4o0rM",
        "outputId": "fec2b950-24e1-4731-fb03-acac9bac2c8d"
      },
      "execution_count": 24,
      "outputs": [
        {
          "output_type": "stream",
          "name": "stdout",
          "text": [
            "313/313 [==============================] - 1s 2ms/step\n"
          ]
        }
      ]
    },
    {
      "cell_type": "code",
      "source": [
        "con_mat_norm = np.around(con_mat.astype('float32') / con_mat.sum(axis=1)[:,np.newaxis], decimals=2)"
      ],
      "metadata": {
        "id": "KMXwLSz9qVp1"
      },
      "execution_count": 25,
      "outputs": []
    },
    {
      "cell_type": "code",
      "source": [
        "con_mat_df = pd.DataFrame(con_mat_norm, index=classes, columns=classes)\n",
        "\n",
        "figure = plt.figure(figsize=(8,8))\n",
        "sns.heatmap(con_mat_df, annot=True, cmap=plt.cm.Reds)\n",
        "plt.tight_layout()\n",
        "plt.ylabel('True label')\n",
        "plt.xlabel('Predict label')\n",
        "plt.show()"
      ],
      "metadata": {
        "colab": {
          "base_uri": "https://localhost:8080/",
          "height": 826
        },
        "id": "yq9m64dtq6hG",
        "outputId": "bb0391b9-b1dd-4763-f419-3ea17cb1c514"
      },
      "execution_count": 27,
      "outputs": [
        {
          "output_type": "display_data",
          "data": {
            "text/plain": [
              "<Figure size 800x800 with 2 Axes>"
            ],
            "image/png": "[encoded data removed]"
          },
          "metadata": {}
        }
      ]
    },
    {
      "cell_type": "code",
      "source": [
        "con_mat"
      ],
      "metadata": {
        "colab": {
          "base_uri": "https://localhost:8080/"
        },
        "id": "9Ij9F8dUq0G-",
        "outputId": "737a3929-c4c9-4327-caf4-1d6371b2938b"
      },
      "execution_count": 30,
      "outputs": [
        {
          "output_type": "execute_result",
          "data": {
            "text/plain": [
              "array([[ 974,    1,    2,    0,    0,    0,    1,    1,    1,    0],\n",
              "       [   0, 1131,    0,    1,    0,    0,    0,    2,    0,    1],\n",
              "       [   0,    0, 1030,    0,    0,    0,    0,    2,    0,    0],\n",
              "       [   0,    1,    1,  997,    0,    7,    0,    4,    0,    0],\n",
              "       [   0,    0,    0,    0,  967,    0,    2,    0,    2,   11],\n",
              "       [   0,    1,    0,    2,    0,  886,    1,    1,    1,    0],\n",
              "       [   3,    2,    2,    0,    0,    3,  948,    0,    0,    0],\n",
              "       [   0,    1,    2,    0,    0,    0,    0, 1022,    0,    3],\n",
              "       [   1,    0,    3,    1,    0,    0,    1,    1,  964,    3],\n",
              "       [   1,    0,    0,    0,    1,    5,    1,    2,    3,  996]],\n",
              "      dtype=int32)"
            ]
          },
          "metadata": {},
          "execution_count": 30
        }
      ]
    },
    {
      "cell_type": "markdown",
      "source": [
        "# Recall"
      ],
      "metadata": {
        "id": "_NkMl5CBtEOe"
      }
    },
    {
      "cell_type": "code",
      "source": [
        "num_classes = con_mat.shape[0]\n",
        "sensitivities = []\n",
        "\n",
        "for class_label in range(num_classes):\n",
        "    TP = con_mat[class_label, class_label]\n",
        "    FN = np.sum(con_mat[class_label, :]) - TP\n",
        "    sensitivity = TP / (TP + FN)\n",
        "    sensitivities.append(sensitivity)\n",
        "\n",
        "print(\"Recall for each class:\")\n",
        "for class_label, sensitivity in enumerate(sensitivities):\n",
        "    print(f\"Class {class_label}: {sensitivity}\")"
      ],
      "metadata": {
        "colab": {
          "base_uri": "https://localhost:8080/"
        },
        "id": "Hq_3dDDBsqpb",
        "outputId": "2cc500d7-20de-49c9-e497-e0ca71f90b65"
      },
      "execution_count": 33,
      "outputs": [
        {
          "output_type": "stream",
          "name": "stdout",
          "text": [
            "Recall for each class:\n",
            "Class 0: 0.9938775510204082\n",
            "Class 1: 0.9964757709251101\n",
            "Class 2: 0.998062015503876\n",
            "Class 3: 0.9871287128712871\n",
            "Class 4: 0.984725050916497\n",
            "Class 5: 0.9932735426008968\n",
            "Class 6: 0.9895615866388309\n",
            "Class 7: 0.9941634241245136\n",
            "Class 8: 0.9897330595482546\n",
            "Class 9: 0.9871159563924677\n"
          ]
        }
      ]
    },
    {
      "cell_type": "markdown",
      "source": [
        "# Specificity"
      ],
      "metadata": {
        "id": "nC4LBJeaupNh"
      }
    },
    {
      "cell_type": "code",
      "source": [
        "num_classes = con_mat.shape[0]\n",
        "specificities = []\n",
        "\n",
        "for class_label in range(num_classes):\n",
        "    TN = np.sum(con_mat) - np.sum(con_mat[class_label, :]) - np.sum(con_mat[:, class_label]) + con_mat[class_label, class_label]\n",
        "    FP = np.sum(con_mat[:, class_label]) - con_mat[class_label, class_label]\n",
        "    specificity = TN / (TN + FP)\n",
        "    specificities.append(specificity)\n",
        "\n",
        "print(\"Specificity (True Negative Rate) for each class:\")\n",
        "for class_label, specificity in enumerate(specificities):\n",
        "    print(f\"Class {class_label}: {specificity}\")"
      ],
      "metadata": {
        "colab": {
          "base_uri": "https://localhost:8080/"
        },
        "id": "aeIZRaTAtGDV",
        "outputId": "a375c7c9-394c-4489-b178-3662e2f67e55"
      },
      "execution_count": 32,
      "outputs": [
        {
          "output_type": "stream",
          "name": "stdout",
          "text": [
            "Specificity (True Negative Rate) for each class:\n",
            "Class 0: 0.9994456762749445\n",
            "Class 1: 0.9993231810490694\n",
            "Class 2: 0.9988849241748439\n",
            "Class 3: 0.9995550611790879\n",
            "Class 4: 0.9998891106675538\n",
            "Class 5: 0.9983530961791831\n",
            "Class 6: 0.9993364299933643\n",
            "Class 7: 0.9985510477039679\n",
            "Class 8: 0.9992244626634168\n",
            "Class 9: 0.997997997997998\n"
          ]
        }
      ]
    },
    {
      "cell_type": "markdown",
      "source": [
        "# Accuracy"
      ],
      "metadata": {
        "id": "NW1kxvqrutY-"
      }
    },
    {
      "cell_type": "code",
      "source": [
        "TP = tf.linalg.diag_part(con_mat)\n",
        "TN = tf.reduce_sum(con_mat) - tf.reduce_sum(con_mat, axis=0) - tf.reduce_sum(con_mat, axis=1) + TP\n",
        "total_samples = tf.reduce_sum(con_mat)\n",
        "\n",
        "accuracy = (tf.reduce_sum(TP) + tf.reduce_sum(TN)) / total_samples\n",
        "\n",
        "print(\"Accuracy:\", accuracy.numpy())"
      ],
      "metadata": {
        "colab": {
          "base_uri": "https://localhost:8080/"
        },
        "id": "jmXFPZsvuD1v",
        "outputId": "3af1b458-2b79-46c4-a84f-635b60f4500a"
      },
      "execution_count": 36,
      "outputs": [
        {
          "output_type": "stream",
          "name": "stdout",
          "text": [
            "Accuracy: 9.983\n"
          ]
        }
      ]
    },
    {
      "cell_type": "markdown",
      "source": [
        "# Precisions"
      ],
      "metadata": {
        "id": "Q3_m2SUnu-1V"
      }
    },
    {
      "cell_type": "code",
      "source": [
        "precisions = []\n",
        "\n",
        "for class_label in range(num_classes):\n",
        "    TP = con_mat[class_label, class_label]\n",
        "    FP = np.sum(con_mat[:, class_label]) - TP\n",
        "    precision = TP / (TP + FP)\n",
        "    precisions.append(precision)\n",
        "\n",
        "print(\"Precision for each class:\")\n",
        "for class_label, precision in enumerate(precisions):\n",
        "    print(f\"Class {class_label}: {precision}\")"
      ],
      "metadata": {
        "colab": {
          "base_uri": "https://localhost:8080/"
        },
        "id": "fbCKTPSduva3",
        "outputId": "70912d99-786a-4531-d72f-ee8f7a868691"
      },
      "execution_count": 37,
      "outputs": [
        {
          "output_type": "stream",
          "name": "stdout",
          "text": [
            "Precision for each class:\n",
            "Class 0: 0.9948927477017364\n",
            "Class 1: 0.9947229551451188\n",
            "Class 2: 0.9903846153846154\n",
            "Class 3: 0.996003996003996\n",
            "Class 4: 0.9989669421487604\n",
            "Class 5: 0.9833518312985572\n",
            "Class 6: 0.9937106918238994\n",
            "Class 7: 0.9874396135265701\n",
            "Class 8: 0.9927909371781668\n",
            "Class 9: 0.9822485207100592\n"
          ]
        }
      ]
    },
    {
      "cell_type": "code",
      "source": [
        "# F-Score"
      ],
      "metadata": {
        "id": "V-QhWDWOvOKG"
      },
      "execution_count": 39,
      "outputs": []
    },
    {
      "cell_type": "code",
      "source": [
        "f1_scores = []\n",
        "\n",
        "for class_label in range(num_classes):\n",
        "    TP = con_mat[class_label, class_label]\n",
        "    FP = np.sum(con_mat[:, class_label]) - TP\n",
        "    FN = np.sum(con_mat[class_label, :]) - TP\n",
        "\n",
        "    precision = TP / (TP + FP)\n",
        "    recall = TP / (TP + FN)\n",
        "    f1_score = 2 * (precision * recall) / (precision + recall + 1e-8)  # Adding a small value to avoid division by zero\n",
        "    f1_scores.append(f1_score)\n",
        "\n",
        "print(\"F1-score for each class:\")\n",
        "for class_label, f1_score in enumerate(f1_scores):\n",
        "    print(f\"Class {class_label}: {f1_score}\")"
      ],
      "metadata": {
        "colab": {
          "base_uri": "https://localhost:8080/"
        },
        "id": "t9S_wU3uvDlz",
        "outputId": "6d6cde5f-488c-433c-ab97-b816d2ec91ff"
      },
      "execution_count": 38,
      "outputs": [
        {
          "output_type": "stream",
          "name": "stdout",
          "text": [
            "F1-score for each class:\n",
            "Class 0: 0.994384885250129\n",
            "Class 1: 0.9955985865492997\n",
            "Class 2: 0.9942084892085689\n",
            "Class 3: 0.9915464892815522\n",
            "Class 4: 0.9917948667951296\n",
            "Class 5: 0.9882877808339242\n",
            "Class 6: 0.9916317941632019\n",
            "Class 7: 0.9907901064881817\n",
            "Class 8: 0.9912596351028397\n",
            "Class 9: 0.9846762184305793\n"
          ]
        }
      ]
    }
  ]
}